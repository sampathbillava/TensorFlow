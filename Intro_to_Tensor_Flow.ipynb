{
  "nbformat": 4,
  "nbformat_minor": 0,
  "metadata": {
    "colab": {
      "provenance": [],
      "collapsed_sections": [],
      "toc_visible": true,
      "authorship_tag": "ABX9TyPqQ1GIEIS3C8JA374VyOrU",
      "include_colab_link": true
    },
    "kernelspec": {
      "name": "python3",
      "display_name": "Python 3"
    },
    "language_info": {
      "name": "python"
    }
  },
  "cells": [
    {
      "cell_type": "markdown",
      "metadata": {
        "id": "view-in-github",
        "colab_type": "text"
      },
      "source": [
        "<a href=\"https://colab.research.google.com/github/sampathbillava/TensorFlow/blob/main/Intro_to_Tensor_Flow.ipynb\" target=\"_parent\"><img src=\"https://colab.research.google.com/assets/colab-badge.svg\" alt=\"Open In Colab\"/></a>"
      ]
    },
    {
      "cell_type": "code",
      "execution_count": null,
      "metadata": {
        "colab": {
          "base_uri": "https://localhost:8080/"
        },
        "id": "FUl-yMGw-iqA",
        "outputId": "3bdd4baf-8bae-4962-8cb1-9d464787f5fe"
      },
      "outputs": [
        {
          "output_type": "stream",
          "name": "stdout",
          "text": [
            "Hello World!\n"
          ]
        }
      ],
      "source": [
        "print(\"Hello World!\")"
      ]
    },
    {
      "cell_type": "code",
      "source": [
        "def HelloWorld(x,y):\n",
        "  print(\"Hello World -> \"+ x + \":\" + y)\n",
        "\n",
        "HelloWorld(\"2\",\"5\")"
      ],
      "metadata": {
        "colab": {
          "base_uri": "https://localhost:8080/"
        },
        "id": "OTz6r7Hs-2k_",
        "outputId": "601992c0-f55d-4a30-973b-1516a71eef4c"
      },
      "execution_count": null,
      "outputs": [
        {
          "output_type": "stream",
          "name": "stdout",
          "text": [
            "Hello World -> 2:5\n"
          ]
        }
      ]
    },
    {
      "cell_type": "markdown",
      "source": [
        "# Basic"
      ],
      "metadata": {
        "id": "WhSteehUGfQq"
      }
    },
    {
      "cell_type": "code",
      "source": [
        "for i in range(2):\n",
        "  print(i)"
      ],
      "metadata": {
        "colab": {
          "base_uri": "https://localhost:8080/"
        },
        "id": "HbkqTiEcAVxU",
        "outputId": "3032fbf0-b694-4ab8-e704-2f0fcc24f90e"
      },
      "execution_count": null,
      "outputs": [
        {
          "output_type": "stream",
          "name": "stdout",
          "text": [
            "0\n",
            "1\n"
          ]
        }
      ]
    },
    {
      "cell_type": "code",
      "source": [
        "import numpy as np\n",
        "\n",
        "a= np.array(['Hello','World'])\n",
        "a = np.append(a,\"!\")\n",
        "print(\"Current array: {}\".format(a))\n",
        "print(\"Printing each element\")\n",
        "for i in a:\n",
        "  print(i)\n",
        "\n",
        "print(\"\\nPrinting each element and their index\")\n",
        "for i,e in enumerate(a):\n",
        "  print(\"Index: {}, was: {}\".format(i,e))"
      ],
      "metadata": {
        "colab": {
          "base_uri": "https://localhost:8080/"
        },
        "id": "AsPcfqAnAwhl",
        "outputId": "0320c9df-eddb-426e-f0dc-0b5c33cf23e2"
      },
      "execution_count": null,
      "outputs": [
        {
          "output_type": "stream",
          "name": "stdout",
          "text": [
            "Current array: ['Hello' 'World' '!']\n",
            "Printing each element\n",
            "Hello\n",
            "World\n",
            "!\n",
            "\n",
            "Printing each element and their index\n",
            "Index: 0, was: Hello\n",
            "Index: 1, was: World\n",
            "Index: 2, was: !\n"
          ]
        }
      ]
    },
    {
      "cell_type": "code",
      "source": [
        "!pwd\n",
        "!cd/\n",
        "!ls -l"
      ],
      "metadata": {
        "colab": {
          "base_uri": "https://localhost:8080/"
        },
        "id": "Q-2v4RR0DONO",
        "outputId": "e9383ce3-491b-4626-e247-9807b36956a6"
      },
      "execution_count": null,
      "outputs": [
        {
          "output_type": "stream",
          "name": "stdout",
          "text": [
            "/content\n",
            "/bin/bash: cd/: No such file or directory\n",
            "total 4\n",
            "drwxr-xr-x 1 root root 4096 Oct  7 13:35 sample_data\n"
          ]
        }
      ]
    },
    {
      "cell_type": "markdown",
      "source": [
        "# Intro to tensor flow"
      ],
      "metadata": {
        "id": "KcT-CGedGlYY"
      }
    },
    {
      "cell_type": "code",
      "source": [
        "import tensorflow as tf"
      ],
      "metadata": {
        "id": "LngY_dIMGqHr"
      },
      "execution_count": null,
      "outputs": []
    },
    {
      "cell_type": "code",
      "source": [
        "import numpy as np\n",
        "import logging\n",
        "logger = tf.get_logger()\n",
        "logger.setLevel(logging.ERROR)"
      ],
      "metadata": {
        "id": "b7Ag216HGzAA"
      },
      "execution_count": null,
      "outputs": []
    },
    {
      "cell_type": "code",
      "source": [
        "celsius_q = np.array([-40, -10,  0,  8, 15, 22,  38], dtype=float)\n",
        "fahrenheit_a = np.array([-40,  14, 32, 46, 59, 72, 100], dtype=float)\n",
        "\n",
        "for i,c in enumerate(celsius_q):\n",
        "  print(\"{} degree celsius = {} degree Fahrenheit\".format(c, fahrenheit_a[i]))"
      ],
      "metadata": {
        "colab": {
          "base_uri": "https://localhost:8080/"
        },
        "id": "Oef-Fz3VHAlH",
        "outputId": "7b42ffb3-569a-464c-fc51-4c843a5ab988"
      },
      "execution_count": null,
      "outputs": [
        {
          "output_type": "stream",
          "name": "stdout",
          "text": [
            "-40.0 degree celsius = -40.0 degree Fahrenheit\n",
            "-10.0 degree celsius = 14.0 degree Fahrenheit\n",
            "0.0 degree celsius = 32.0 degree Fahrenheit\n",
            "8.0 degree celsius = 46.0 degree Fahrenheit\n",
            "15.0 degree celsius = 59.0 degree Fahrenheit\n",
            "22.0 degree celsius = 72.0 degree Fahrenheit\n",
            "38.0 degree celsius = 100.0 degree Fahrenheit\n"
          ]
        }
      ]
    },
    {
      "cell_type": "markdown",
      "source": [
        "# Steps"
      ],
      "metadata": {
        "id": "BAW9U9chIo1V"
      }
    },
    {
      "cell_type": "code",
      "source": [
        "# layer\n",
        "l0= tf.keras.layers.Dense(units=1, input_shape=[1]) \n",
        "# model\n",
        "model = tf.keras.Sequential([l0])\n",
        "\n",
        "# complie model\n",
        "model.compile(loss='mean_squared_error', \n",
        "              optimizer=tf.keras.optimizers.Adam(0.1))\n",
        "\n",
        "# train model\n",
        "history = model.fit(celsius_q,fahrenheit_a, epochs=500, verbose=False)\n",
        "print(\"Finished training model\")\n",
        "\n",
        "## training statistics\n",
        "#import matplotlib.pyplot as plt\n",
        "#plt.xlabel('Epoch Number')\n",
        "#plt.ylabel(\"Loss Magnitude\")\n",
        "#plt.plot(history.history['loss'])\n",
        "\n",
        "# predict\n",
        "print(model.predict([100.0]))"
      ],
      "metadata": {
        "colab": {
          "base_uri": "https://localhost:8080/"
        },
        "id": "pcGPeOenIrye",
        "outputId": "497c16d4-5d4d-448d-9e6b-7bd3998321c9"
      },
      "execution_count": null,
      "outputs": [
        {
          "output_type": "stream",
          "name": "stdout",
          "text": [
            "Finished training model\n",
            "1/1 [==============================] - 0s 46ms/step\n",
            "[[211.3348]]\n"
          ]
        }
      ]
    },
    {
      "cell_type": "code",
      "source": [
        "# layer weight (variable values that are created by the mode)\n",
        "print(\"These are the layer variables: {}\".format(l0.get_weights()))"
      ],
      "metadata": {
        "colab": {
          "base_uri": "https://localhost:8080/"
        },
        "id": "IZ_bYLA3NZvc",
        "outputId": "39cbc3d9-f836-454a-9a2b-7d5d5258fa26"
      },
      "execution_count": null,
      "outputs": [
        {
          "output_type": "stream",
          "name": "stdout",
          "text": [
            "These are the layer variables: [array([[1.821041]], dtype=float32), array([29.230703], dtype=float32)]\n"
          ]
        }
      ]
    }
  ]
}